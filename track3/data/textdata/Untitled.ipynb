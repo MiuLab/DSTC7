{
 "cells": [
  {
   "cell_type": "code",
   "execution_count": 2,
   "metadata": {},
   "outputs": [],
   "source": [
    "import json\n",
    "\n",
    "data = json.load(open('test_set.json'))"
   ]
  },
  {
   "cell_type": "code",
   "execution_count": 3,
   "metadata": {},
   "outputs": [
    {
     "data": {
      "text/plain": [
       "dict_keys(['dialogs', 'version', 'type'])"
      ]
     },
     "execution_count": 3,
     "metadata": {},
     "output_type": "execute_result"
    }
   ],
   "source": [
    "data.keys()"
   ]
  },
  {
   "cell_type": "code",
   "execution_count": 10,
   "metadata": {},
   "outputs": [],
   "source": [
    "references = [[]]\n",
    "predictions = []\n",
    "ground_truth = []\n",
    "\n",
    "for dialog in data['dialogs']:\n",
    "    for qas in dialog['dialog']:\n",
    "        question = qas['question']\n",
    "        answer = qas['answer']\n",
    "        references[0].append(answer)\n",
    "        predictions.append(question)\n",
    "        ground_truth.append(answer)\n"
   ]
  },
  {
   "cell_type": "code",
   "execution_count": 11,
   "metadata": {
    "collapsed": true
   },
   "outputs": [],
   "source": [
    "from nlgeval import NLGEval\n",
    "nlgeval = NLGEval(no_skipthoughts=True, no_glove=True)"
   ]
  },
  {
   "cell_type": "code",
   "execution_count": 12,
   "metadata": {},
   "outputs": [
    {
     "data": {
      "text/plain": [
       "{'Bleu_1': 0.20603881734375326,\n",
       " 'Bleu_2': 0.11024381180600101,\n",
       " 'Bleu_3': 0.06817095622605548,\n",
       " 'Bleu_4': 0.0431853722766347,\n",
       " 'CIDEr': 0.54086138730716227,\n",
       " 'METEOR': 0.10483164518581793,\n",
       " 'ROUGE_L': 0.20940046623390132}"
      ]
     },
     "execution_count": 12,
     "metadata": {},
     "output_type": "execute_result"
    }
   ],
   "source": [
    "nlgeval.compute_metrics(references, predictions)"
   ]
  },
  {
   "cell_type": "code",
   "execution_count": 15,
   "metadata": {},
   "outputs": [
    {
     "data": {
      "text/plain": [
       "{'Bleu_1': 0.9999999999999738,\n",
       " 'Bleu_2': 0.9999999999999731,\n",
       " 'Bleu_3': 0.9999999999999724,\n",
       " 'Bleu_4': 0.9999999999999715,\n",
       " 'CIDEr': 10.0,\n",
       " 'METEOR': 1.0,\n",
       " 'ROUGE_L': 1.0}"
      ]
     },
     "execution_count": 15,
     "metadata": {},
     "output_type": "execute_result"
    }
   ],
   "source": [
    "nlgeval.compute_metrics(references, ground_truth)"
   ]
  },
  {
   "cell_type": "code",
   "execution_count": null,
   "metadata": {
    "collapsed": true
   },
   "outputs": [],
   "source": []
  }
 ],
 "metadata": {
  "kernelspec": {
   "display_name": "Python 3",
   "language": "python",
   "name": "python3"
  },
  "language_info": {
   "codemirror_mode": {
    "name": "ipython",
    "version": 3
   },
   "file_extension": ".py",
   "mimetype": "text/x-python",
   "name": "python",
   "nbconvert_exporter": "python",
   "pygments_lexer": "ipython3",
   "version": "3.6.1"
  }
 },
 "nbformat": 4,
 "nbformat_minor": 2
}
